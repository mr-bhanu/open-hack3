{
  "nbformat": 4,
  "nbformat_minor": 0,
  "metadata": {
    "colab": {
      "name": "cv.ipynb",
      "private_outputs": true,
      "provenance": [],
      "authorship_tag": "ABX9TyOQXavYLLAznjXow+S3qiZs",
      "include_colab_link": true
    },
    "kernelspec": {
      "name": "python3",
      "display_name": "Python 3"
    },
    "language_info": {
      "name": "python"
    }
  },
  "cells": [
    {
      "cell_type": "markdown",
      "metadata": {
        "id": "view-in-github",
        "colab_type": "text"
      },
      "source": [
        "<a href=\"https://colab.research.google.com/github/mr-bhanu/open-hack3/blob/main/cv.ipynb\" target=\"_parent\"><img src=\"https://colab.research.google.com/assets/colab-badge.svg\" alt=\"Open In Colab\"/></a>"
      ]
    },
    {
      "cell_type": "code",
      "metadata": {
        "id": "a_XVyNigk6g5"
      },
      "source": [
        "!git clone https://github.com/mr-bhanu/open-hack3.git\n",
        "%cd open-hack3/\n",
        "from IPython .display import clear_output\n",
        "clear_output"
      ],
      "execution_count": null,
      "outputs": []
    },
    {
      "cell_type": "code",
      "metadata": {
        "id": "OULFfzDalVD2"
      },
      "source": [
        "from google.colab.patches import cv2_imshow\n",
        "from PIL import Image,ImageEnhance,ImageFilter\n",
        "img = Image.open(\"r1.jpg\")\n",
        "print(img.size)\n",
        "\n",
        "#rotate\n",
        "im = Image.open(\"r2.jpg\")\n",
        "im.show()\n",
        "im = im.rotate(45)\n",
        "im.show()\n",
        "im.save(\"output/rotate.jpg\")\n",
        "\n",
        "#merger\n",
        "image1 = Image.open('r1.jpg')\n",
        "image1.show()\n",
        "image2 = Image.open('r3.jpg')\n",
        "image2.show()\n",
        "#resize, first image\n",
        "\n",
        "image1_size = image1.size\n",
        "image2_size = image2.size\n",
        "new_image = Image.new('RGB',(2*image1_size[0], image1_size[1]), (250,250,250))\n",
        "new_image.paste(image1,(0,0))\n",
        "new_image.paste(image2,(image1_size[0],0))\n",
        "new_image.save(\"output/merge.jpg\")\n",
        "new_image.show()\n",
        "#blur\n",
        "OriImage = Image.open('r3.jpg')\n",
        "OriImage.show()\n",
        "\n",
        "blurImage = OriImage.filter(ImageFilter.BLUR)\n",
        "blurImage.show()\n",
        "#Save blurImage\n",
        "blurImage.save('output/simBlurImage.jpg')\n",
        "\n",
        "#gray\n",
        "img = Image.open('r2.jpg')\n",
        "img_cov = img.convert('L')\n",
        "#show image\n",
        "img_cov.show()\n",
        "#save image\n",
        "img_cov.save(\"output/gray.jpg\")\n",
        "\n",
        "\n",
        "#contour\n",
        "from PIL.ImageFilter import (\n",
        "   BLUR, CONTOUR, DETAIL, EDGE_ENHANCE, EDGE_ENHANCE_MORE,\n",
        "   EMBOSS, FIND_EDGES, SMOOTH, SMOOTH_MORE, SHARPEN\n",
        ")\n",
        "#Create image object\n",
        "img = Image.open('r3.jpg')\n",
        "#Applying the blur filter\n",
        "img1 = img.filter(CONTOUR)\n",
        "img1.save('output/ImageFilter_blur.jpg')\n",
        "\n",
        "#detail\n",
        "img = Image.open('r2.jpg')\n",
        "#Applying the blur filter\n",
        "img1 = img.filter(DETAIL)\n",
        "img1.save('output/detail.jpg')\n",
        "\n",
        "#edge\n",
        "img = Image.open('r2.jpg')\n",
        "#Applying the blur filter\n",
        "img1 = img.filter(EDGE_ENHANCE)\n",
        "img1.save('output/edge.jpg')\n",
        "img1.show()\n",
        "\n",
        "#emboss\n",
        "img = Image.open('r3.jpg')\n",
        "#Applying the blur filter\n",
        "img1 = img.filter(EMBOSS)\n",
        "img1.save('output/emboss.jpg')\n",
        "img1.show()\n",
        "\n",
        "#sharp\n",
        "img = Image.open('r1.jpg')\n",
        "#Applying the blur filter\n",
        "img1 = img.filter(SHARPEN)\n",
        "img1.save('output/sharp.jpg')\n",
        "img1.show()"
      ],
      "execution_count": null,
      "outputs": []
    }
  ]
}